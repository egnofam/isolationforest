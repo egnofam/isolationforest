{
 "cells": [
  {
   "cell_type": "code",
   "execution_count": 1,
   "id": "fb075343-dc07-44b0-a6bb-a5bca5f5a481",
   "metadata": {},
   "outputs": [],
   "source": [
    "import numpy as np\n",
    "import matplotlib.pyplot as plt"
   ]
  },
  {
   "cell_type": "code",
   "execution_count": 2,
   "id": "81fa5bc6-4e4b-438f-a7ce-36c585998e64",
   "metadata": {},
   "outputs": [],
   "source": [
    "from sklearn.ensemble import IsolationForest"
   ]
  },
  {
   "cell_type": "code",
   "execution_count": 3,
   "id": "1ed86831-5727-467c-ae9e-db7a3e34cb2f",
   "metadata": {},
   "outputs": [],
   "source": [
    "from sklearn.datasets import load_digits"
   ]
  },
  {
   "cell_type": "code",
   "execution_count": 4,
   "id": "42026899-27f0-41cf-bcca-187f4e10065b",
   "metadata": {},
   "outputs": [],
   "source": [
    "data = load_digits()"
   ]
  },
  {
   "cell_type": "code",
   "execution_count": null,
   "id": "06e2a90c-8d05-4d03-bf67-034d89d15453",
   "metadata": {},
   "outputs": [],
   "source": []
  },
  {
   "cell_type": "code",
   "execution_count": null,
   "id": "ba0722d2-afee-481d-b6ba-6fb5def02c44",
   "metadata": {},
   "outputs": [],
   "source": []
  },
  {
   "cell_type": "code",
   "execution_count": 19,
   "id": "b3fe8421-d6ba-41da-9564-2efb0f8a07a7",
   "metadata": {},
   "outputs": [
    {
     "data": {
      "image/png": "[encoded data removed]",
      "text/plain": [
       "<Figure size 432x288 with 4 Axes>"
      ]
     },
     "metadata": {
      "needs_background": "light"
     },
     "output_type": "display_data"
    }
   ],
   "source": [
    "#plt.figure()\n",
    "for i in np.arange(1,5):\n",
    "    plt.subplot(2,2,i)\n",
    "    plt.imshow(data.images[i])"
   ]
  },
  {
   "cell_type": "code",
   "execution_count": 20,
   "id": "30feb94e-b31c-4c45-98f8-2c362f4ba9d5",
   "metadata": {},
   "outputs": [],
   "source": [
    "X = data.data\n",
    "y = data.target"
   ]
  },
  {
   "cell_type": "code",
   "execution_count": 31,
   "id": "daa1a95e-7012-44fd-a4b1-f2f2beb78999",
   "metadata": {},
   "outputs": [
    {
     "data": {
      "text/plain": [
       "((1797, 64), (1797,), (1797, 8, 8))"
      ]
     },
     "execution_count": 31,
     "metadata": {},
     "output_type": "execute_result"
    }
   ],
   "source": [
    "X.shape,y.shape, data.images.shape"
   ]
  },
  {
   "cell_type": "code",
   "execution_count": 30,
   "id": "a17a7e9c-4ab7-4932-81e5-a7cc5926ff44",
   "metadata": {},
   "outputs": [
    {
     "data": {
      "text/plain": [
       "(64, 64, 64)"
      ]
     },
     "execution_count": 30,
     "metadata": {},
     "output_type": "execute_result"
    }
   ],
   "source": [
    "len(X[0]),len(X[1]),len(X[1796])"
   ]
  },
  {
   "cell_type": "code",
   "execution_count": 83,
   "id": "e72b575f-dba1-4cd9-8a0c-c0ba866bfc40",
   "metadata": {},
   "outputs": [],
   "source": [
    " model = IsolationForest(contamination=0.04)"
   ]
  },
  {
   "cell_type": "code",
   "execution_count": 84,
   "id": "9ea52268-19a5-4584-b9ce-887cfa455d35",
   "metadata": {},
   "outputs": [
    {
     "data": {
      "text/plain": [
       "IsolationForest(contamination=0.04)"
      ]
     },
     "execution_count": 84,
     "metadata": {},
     "output_type": "execute_result"
    }
   ],
   "source": [
    "model.fit(X)"
   ]
  },
  {
   "cell_type": "code",
   "execution_count": 85,
   "id": "c34f75ba-f8a7-4ba5-b003-4af01b3e68dd",
   "metadata": {},
   "outputs": [
    {
     "data": {
      "text/plain": [
       "array([1, 1, 1, ..., 1, 1, 1])"
      ]
     },
     "execution_count": 85,
     "metadata": {},
     "output_type": "execute_result"
    }
   ],
   "source": [
    "model.predict(X)"
   ]
  },
  {
   "cell_type": "code",
   "execution_count": 86,
   "id": "e6ec12fe-07b9-49d3-b057-e3de5854533f",
   "metadata": {},
   "outputs": [
    {
     "data": {
      "text/plain": [
       "array([-1,  1])"
      ]
     },
     "execution_count": 86,
     "metadata": {},
     "output_type": "execute_result"
    }
   ],
   "source": [
    "np.unique(model.predict(X))"
   ]
  },
  {
   "cell_type": "code",
   "execution_count": 87,
   "id": "e79367af-a6f8-40e4-9555-67c978e34d8f",
   "metadata": {},
   "outputs": [
    {
     "data": {
      "text/plain": [
       "1725"
      ]
     },
     "execution_count": 87,
     "metadata": {},
     "output_type": "execute_result"
    }
   ],
   "source": [
    "len(X[model.predict(X)==1])"
   ]
  },
  {
   "cell_type": "code",
   "execution_count": 88,
   "id": "add53989-a857-4003-aaff-14f2616a42c4",
   "metadata": {},
   "outputs": [
    {
     "data": {
      "text/plain": [
       "72"
      ]
     },
     "execution_count": 88,
     "metadata": {},
     "output_type": "execute_result"
    }
   ],
   "source": [
    "len(X[model.predict(X)==-1])"
   ]
  },
  {
   "cell_type": "code",
   "execution_count": 89,
   "id": "8360c702-a3b2-4e2a-81bb-32b83dd898e0",
   "metadata": {},
   "outputs": [],
   "source": [
    "outliers = data.images[model.predict(X)==-1]"
   ]
  },
  {
   "cell_type": "code",
   "execution_count": 90,
   "id": "a334bdbd-a36b-4aa8-8de6-9060a74c672a",
   "metadata": {},
   "outputs": [
    {
     "data": {
      "text/plain": [
       "array([1, 2, 3, 4])"
      ]
     },
     "execution_count": 90,
     "metadata": {},
     "output_type": "execute_result"
    }
   ],
   "source": [
    "np.arange(1,5)"
   ]
  },
  {
   "cell_type": "code",
   "execution_count": 91,
   "id": "6024c6f3-20df-4e23-ae7d-e285438b033f",
   "metadata": {},
   "outputs": [
    {
     "data": {
      "image/png": "[encoded data removed]",
      "text/plain": [
       "<Figure size 432x288 with 6 Axes>"
      ]
     },
     "metadata": {
      "needs_background": "light"
     },
     "output_type": "display_data"
    }
   ],
   "source": [
    "for i in np.arange(1,7):\n",
    "    plt.subplot(2,3,i)\n",
    "    plt.imshow(outliers[i])"
   ]
  },
  {
   "cell_type": "code",
   "execution_count": 92,
   "id": "b0e02c17-2af4-45f3-b70e-a4cef683f1f7",
   "metadata": {},
   "outputs": [],
   "source": [
    "nonoutliers = data.images[model.predict(X)==1]"
   ]
  },
  {
   "cell_type": "code",
   "execution_count": 93,
   "id": "cf042462-1bde-4156-a2d5-5ec9da4cc391",
   "metadata": {},
   "outputs": [
    {
     "data": {
      "image/png": "[encoded data removed]",
      "text/plain": [
       "<Figure size 432x288 with 6 Axes>"
      ]
     },
     "metadata": {
      "needs_background": "light"
     },
     "output_type": "display_data"
    }
   ],
   "source": [
    "for i in np.arange(1,7):\n",
    "    plt.subplot(2,3,i)\n",
    "    plt.imshow(nonoutliers[i])"
   ]
  },
  {
   "cell_type": "code",
   "execution_count": null,
   "id": "65e04696-098c-4c99-a3eb-77fa68d6d6d5",
   "metadata": {},
   "outputs": [],
   "source": []
  }
 ],
 "metadata": {
  "kernelspec": {
   "display_name": "Python 3 (ipykernel)",
   "language": "python",
   "name": "python3"
  },
  "language_info": {
   "codemirror_mode": {
    "name": "ipython",
    "version": 3
   },
   "file_extension": ".py",
   "mimetype": "text/x-python",
   "name": "python",
   "nbconvert_exporter": "python",
   "pygments_lexer": "ipython3",
   "version": "3.9.9"
  }
 },
 "nbformat": 4,
 "nbformat_minor": 5
}
