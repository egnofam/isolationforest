{
 "cells": [
  {
   "cell_type": "code",
   "execution_count": 1,
   "id": "28318772-7bf2-4e6d-926b-50f11053bc0d",
   "metadata": {},
   "outputs": [],
   "source": [
    "import numpy as np\n",
    "import matplotlib.pyplot as plt"
   ]
  },
  {
   "cell_type": "code",
   "execution_count": 2,
   "id": "7740c1c6-91ec-46b1-a330-ac7b635b8e41",
   "metadata": {},
   "outputs": [],
   "source": [
    "from sklearn.ensemble import IsolationForest"
   ]
  },
  {
   "cell_type": "code",
   "execution_count": 3,
   "id": "eb150141-af67-4a29-9ae7-c81b3629d770",
   "metadata": {},
   "outputs": [],
   "source": [
    "from sklearn.datasets import make_blobs"
   ]
  },
  {
   "cell_type": "code",
   "execution_count": 6,
   "id": "6f1de5bb-8a37-467a-8425-fd44b8985e54",
   "metadata": {},
   "outputs": [],
   "source": [
    "X,y = make_blobs(n_samples=50,centers=1,cluster_std=0.2)"
   ]
  },
  {
   "cell_type": "code",
   "execution_count": 7,
   "id": "1ad573eb-0ff4-4197-bb44-19512036043b",
   "metadata": {},
   "outputs": [
    {
     "data": {
      "text/plain": [
       "<matplotlib.collections.PathCollection at 0x1aa3a338c70>"
      ]
     },
     "execution_count": 7,
     "metadata": {},
     "output_type": "execute_result"
    },
    {
     "data": {
      "image/png": "[encoded data removed]",
      "text/plain": [
       "<Figure size 432x288 with 1 Axes>"
      ]
     },
     "metadata": {
      "needs_background": "light"
     },
     "output_type": "display_data"
    }
   ],
   "source": [
    "plt.scatter(X[:,0],X[:,1])"
   ]
  },
  {
   "cell_type": "code",
   "execution_count": 13,
   "id": "8b60b94c-ba7d-42e7-8308-b94b1cb71189",
   "metadata": {},
   "outputs": [
    {
     "data": {
      "text/plain": [
       "4.181488646085171"
      ]
     },
     "execution_count": 13,
     "metadata": {},
     "output_type": "execute_result"
    }
   ],
   "source": [
    "X[0,0]"
   ]
  },
  {
   "cell_type": "code",
   "execution_count": 14,
   "id": "f5be84f7-93ed-470b-ba02-a2760e8c3c36",
   "metadata": {},
   "outputs": [
    {
     "data": {
      "text/plain": [
       "array([4.18148865, 1.44671284])"
      ]
     },
     "execution_count": 14,
     "metadata": {},
     "output_type": "execute_result"
    }
   ],
   "source": [
    "X[0,:]"
   ]
  },
  {
   "cell_type": "code",
   "execution_count": 15,
   "id": "fa3c5b74-5dcf-4f07-8d35-ccafa3cf67ce",
   "metadata": {},
   "outputs": [
    {
     "data": {
      "text/plain": [
       "array([3.71790525, 1.02227257])"
      ]
     },
     "execution_count": 15,
     "metadata": {},
     "output_type": "execute_result"
    }
   ],
   "source": [
    "X[1,:]"
   ]
  },
  {
   "cell_type": "code",
   "execution_count": 12,
   "id": "8cb274a7-be5d-478e-8bc9-4bfed54648de",
   "metadata": {},
   "outputs": [
    {
     "data": {
      "text/plain": [
       "array([[4.18148865, 1.44671284],\n",
       "       [3.71790525, 1.02227257],\n",
       "       [3.55820591, 1.74458132],\n",
       "       [3.83759976, 1.65642511],\n",
       "       [3.37796364, 1.71002428],\n",
       "       [3.7113119 , 1.74444983],\n",
       "       [3.60339486, 1.47600033],\n",
       "       [4.0308991 , 1.73541698],\n",
       "       [3.67524324, 1.89839717],\n",
       "       [3.9357567 , 1.52024211],\n",
       "       [4.15309751, 1.58456319],\n",
       "       [3.66602391, 1.33388028],\n",
       "       [3.80657645, 1.7631639 ],\n",
       "       [3.86517798, 1.58528632],\n",
       "       [3.62633282, 1.74674646],\n",
       "       [3.98414508, 1.73580559],\n",
       "       [4.05825576, 1.5616409 ],\n",
       "       [3.63589502, 1.9310061 ],\n",
       "       [3.85922621, 1.85010811],\n",
       "       [3.48734101, 1.38876808],\n",
       "       [4.00170107, 2.09324318],\n",
       "       [3.3262396 , 1.95159693],\n",
       "       [3.68755649, 1.90840642],\n",
       "       [3.6960032 , 1.78508641],\n",
       "       [3.78959762, 1.59536408],\n",
       "       [3.50461365, 1.91161482],\n",
       "       [4.02847756, 1.74732899],\n",
       "       [3.59359093, 1.49792273],\n",
       "       [3.61060719, 1.64084382],\n",
       "       [3.85603266, 1.55936333],\n",
       "       [3.79591774, 1.66479633],\n",
       "       [4.02217516, 1.50982719],\n",
       "       [3.8876771 , 1.40362984],\n",
       "       [3.82745952, 1.63204849],\n",
       "       [3.43937697, 1.88059124],\n",
       "       [3.61593125, 1.60065453],\n",
       "       [3.91175005, 1.32798909],\n",
       "       [3.44137862, 2.0342032 ],\n",
       "       [3.47575587, 1.62520138],\n",
       "       [3.93681939, 1.65360887],\n",
       "       [3.73196131, 1.67157813],\n",
       "       [3.80023706, 1.77920497],\n",
       "       [3.93656636, 1.76842728],\n",
       "       [3.96392801, 1.45503944],\n",
       "       [4.06633427, 1.79161171],\n",
       "       [3.9856792 , 1.6902907 ],\n",
       "       [3.66429443, 1.75289684],\n",
       "       [3.76507482, 1.79949514],\n",
       "       [3.60204718, 1.71092457],\n",
       "       [3.70870573, 1.8396998 ]])"
      ]
     },
     "execution_count": 12,
     "metadata": {},
     "output_type": "execute_result"
    }
   ],
   "source": [
    "X"
   ]
  },
  {
   "cell_type": "code",
   "execution_count": 24,
   "id": "c222c083-d94a-4ce3-91aa-4099cd77cbe9",
   "metadata": {},
   "outputs": [],
   "source": [
    "X[-1,:] = [2.25,5]"
   ]
  },
  {
   "cell_type": "code",
   "execution_count": 11,
   "id": "cfe9b7b3-9dec-4f3b-8251-8f1cdb24b3ce",
   "metadata": {},
   "outputs": [
    {
     "data": {
      "text/plain": [
       "array([3.70870573, 1.8396998 ])"
      ]
     },
     "execution_count": 11,
     "metadata": {},
     "output_type": "execute_result"
    }
   ],
   "source": [
    "X[-1]"
   ]
  },
  {
   "cell_type": "code",
   "execution_count": 25,
   "id": "ac446669-fac9-4bef-b4e2-a4d1161cb7bc",
   "metadata": {},
   "outputs": [
    {
     "data": {
      "text/plain": [
       "array([2.25, 5.  ])"
      ]
     },
     "execution_count": 25,
     "metadata": {},
     "output_type": "execute_result"
    }
   ],
   "source": [
    "X[-1]"
   ]
  },
  {
   "cell_type": "code",
   "execution_count": 10,
   "id": "d222b6d7-ce62-4513-bb7e-e8e48ab0d1f5",
   "metadata": {},
   "outputs": [
    {
     "data": {
      "text/plain": [
       "array([3.60204718, 1.71092457])"
      ]
     },
     "execution_count": 10,
     "metadata": {},
     "output_type": "execute_result"
    }
   ],
   "source": [
    "X[-2]"
   ]
  },
  {
   "cell_type": "code",
   "execution_count": 19,
   "id": "38b262a1-dbeb-4a5a-9731-f04d830fdd90",
   "metadata": {},
   "outputs": [
    {
     "data": {
      "text/plain": [
       "array([4.18148865, 1.44671284])"
      ]
     },
     "execution_count": 19,
     "metadata": {},
     "output_type": "execute_result"
    }
   ],
   "source": [
    "X[-50]"
   ]
  },
  {
   "cell_type": "code",
   "execution_count": 22,
   "id": "33ee15bc-5215-44d1-9f7c-82fc32899093",
   "metadata": {},
   "outputs": [
    {
     "data": {
      "text/plain": [
       "array([3.70870573, 1.8396998 ])"
      ]
     },
     "execution_count": 22,
     "metadata": {},
     "output_type": "execute_result"
    }
   ],
   "source": [
    "X[49]"
   ]
  },
  {
   "cell_type": "code",
   "execution_count": 5,
   "id": "54725373-124b-43e6-a75c-e69920d62bab",
   "metadata": {},
   "outputs": [
    {
     "data": {
      "text/plain": [
       "(100, 100)"
      ]
     },
     "execution_count": 5,
     "metadata": {},
     "output_type": "execute_result"
    }
   ],
   "source": [
    "len(X),len(y)"
   ]
  },
  {
   "cell_type": "code",
   "execution_count": 26,
   "id": "5a159ea5-1b3a-4353-a108-cd7e335b9341",
   "metadata": {},
   "outputs": [
    {
     "data": {
      "text/plain": [
       "<matplotlib.collections.PathCollection at 0x1aa3ad57400>"
      ]
     },
     "execution_count": 26,
     "metadata": {},
     "output_type": "execute_result"
    },
    {
     "data": {
      "image/png": "[encoded data removed]",
      "text/plain": [
       "<Figure size 432x288 with 1 Axes>"
      ]
     },
     "metadata": {
      "needs_background": "light"
     },
     "output_type": "display_data"
    }
   ],
   "source": [
    "plt.scatter(X[:,0],X[:,1])"
   ]
  },
  {
   "cell_type": "code",
   "execution_count": 27,
   "id": "329982fe-7f61-4035-a900-bcb04250710c",
   "metadata": {},
   "outputs": [],
   "source": [
    "from sklearn.cluster import KMeans\n",
    "from sklearn.ensemble import IsolationForest"
   ]
  },
  {
   "cell_type": "code",
   "execution_count": 28,
   "id": "8862618c-e35a-46c6-8585-4bbc3ef9f56b",
   "metadata": {},
   "outputs": [],
   "source": [
    "modelK = KMeans()"
   ]
  },
  {
   "cell_type": "code",
   "execution_count": 29,
   "id": "c73b7c50-643f-44e5-9cfb-e02a619815a4",
   "metadata": {},
   "outputs": [
    {
     "data": {
      "text/plain": [
       "KMeans()"
      ]
     },
     "execution_count": 29,
     "metadata": {},
     "output_type": "execute_result"
    }
   ],
   "source": [
    "modelK.fit(X)"
   ]
  },
  {
   "cell_type": "code",
   "execution_count": 30,
   "id": "4eec7507-b270-46e3-a63f-d047054ff049",
   "metadata": {},
   "outputs": [
    {
     "data": {
      "text/plain": [
       "<matplotlib.collections.PathCollection at 0x1aa3b770e80>"
      ]
     },
     "execution_count": 30,
     "metadata": {},
     "output_type": "execute_result"
    },
    {
     "data": {
      "image/png": "[encoded data removed]",
      "text/plain": [
       "<Figure size 432x288 with 1 Axes>"
      ]
     },
     "metadata": {
      "needs_background": "light"
     },
     "output_type": "display_data"
    }
   ],
   "source": [
    "plt.scatter(X[:,0],X[:,1],c = modelK.predict(X))"
   ]
  },
  {
   "cell_type": "code",
   "execution_count": 34,
   "id": "00099adf-3513-437e-8550-7563cd3f9be2",
   "metadata": {},
   "outputs": [],
   "source": [
    "modelI = IsolationForest(contamination=0.01)"
   ]
  },
  {
   "cell_type": "code",
   "execution_count": 35,
   "id": "c117c22a-6c60-4cb2-9d89-bfeb52838bc3",
   "metadata": {},
   "outputs": [
    {
     "data": {
      "text/plain": [
       "IsolationForest(contamination=0.01)"
      ]
     },
     "execution_count": 35,
     "metadata": {},
     "output_type": "execute_result"
    }
   ],
   "source": [
    "modelI.fit(X)"
   ]
  },
  {
   "cell_type": "code",
   "execution_count": 36,
   "id": "01ac186f-afa5-4d7c-bac8-ab39df5ed85f",
   "metadata": {},
   "outputs": [
    {
     "data": {
      "text/plain": [
       "<matplotlib.collections.PathCollection at 0x1aa3b68d790>"
      ]
     },
     "execution_count": 36,
     "metadata": {},
     "output_type": "execute_result"
    },
    {
     "data": {
      "image/png": "[encoded data removed]",
      "text/plain": [
       "<Figure size 432x288 with 1 Axes>"
      ]
     },
     "metadata": {
      "needs_background": "light"
     },
     "output_type": "display_data"
    }
   ],
   "source": [
    "plt.scatter(X[:,0],X[:,1],c = modelI.predict(X))"
   ]
  },
  {
   "cell_type": "code",
   "execution_count": 51,
   "id": "fec5d32c-192a-4b68-bd44-a7de5a81ffca",
   "metadata": {},
   "outputs": [],
   "source": [
    "modelII = IsolationForest(contamination=0.5)"
   ]
  },
  {
   "cell_type": "code",
   "execution_count": 52,
   "id": "114d336b-72d8-4675-93d1-0b7969e39b72",
   "metadata": {},
   "outputs": [
    {
     "data": {
      "text/plain": [
       "IsolationForest(contamination=0.5)"
      ]
     },
     "execution_count": 52,
     "metadata": {},
     "output_type": "execute_result"
    }
   ],
   "source": [
    "modelII.fit(X)"
   ]
  },
  {
   "cell_type": "code",
   "execution_count": 53,
   "id": "a18cffb3-1d92-4f04-b8a7-69b2a5ea33ce",
   "metadata": {},
   "outputs": [
    {
     "data": {
      "text/plain": [
       "<matplotlib.collections.PathCollection at 0x1aa3dcee850>"
      ]
     },
     "execution_count": 53,
     "metadata": {},
     "output_type": "execute_result"
    },
    {
     "data": {
      "image/png": "[encoded data removed]",
      "text/plain": [
       "<Figure size 432x288 with 1 Axes>"
      ]
     },
     "metadata": {
      "needs_background": "light"
     },
     "output_type": "display_data"
    }
   ],
   "source": [
    "plt.scatter(X[:,0],X[:,1],c = modelII.predict(X))"
   ]
  },
  {
   "cell_type": "code",
   "execution_count": null,
   "id": "8fc5bf69-4bef-49c5-9598-c02393281209",
   "metadata": {},
   "outputs": [],
   "source": []
  }
 ],
 "metadata": {
  "kernelspec": {
   "display_name": "Python 3 (ipykernel)",
   "language": "python",
   "name": "python3"
  },
  "language_info": {
   "codemirror_mode": {
    "name": "ipython",
    "version": 3
   },
   "file_extension": ".py",
   "mimetype": "text/x-python",
   "name": "python",
   "nbconvert_exporter": "python",
   "pygments_lexer": "ipython3",
   "version": "3.9.9"
  }
 },
 "nbformat": 4,
 "nbformat_minor": 5
}
